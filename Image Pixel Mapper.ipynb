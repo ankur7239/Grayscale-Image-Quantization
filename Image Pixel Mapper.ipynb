{
 "cells": [
  {
   "cell_type": "code",
   "execution_count": null,
   "id": "4b788231",
   "metadata": {},
   "outputs": [],
   "source": [
    "import numpy as np\n",
    "from PIL import Image\n",
    "\n",
    "# Open the image\n",
    "im = Image.open('images.jpg').convert('L')  # Convert to grayscale\n",
    "pixelMap = im.load()\n",
    "\n",
    "# Create a new image with the same mode and size\n",
    "img = Image.new(im.mode, im.size)\n",
    "pixelNew = img.load()\n",
    "\n",
    "# Loop through all pixels\n",
    "for i in range(img.size[0]):  # Width\n",
    "    for j in range(img.size[1]):  # Height\n",
    "        pixel_value = pixelMap[i, j]  # Get grayscale pixel value\n",
    "\n",
    "        # Assign new pixel values based on intensity ranges\n",
    "        if 0 <= pixel_value <= 31:\n",
    "            pixelNew[i, j] = 0\n",
    "        elif 32 <= pixel_value <= 63:\n",
    "            pixelNew[i, j] = 32\n",
    "        elif 64 <= pixel_value <= 95:\n",
    "            pixelNew[i, j] = 64\n",
    "        elif 96 <= pixel_value <= 127:\n",
    "            pixelNew[i, j] = 96\n",
    "        elif 128 <= pixel_value <= 159:\n",
    "            pixelNew[i, j] = 128\n",
    "        elif 160 <= pixel_value <= 191:\n",
    "            pixelNew[i, j] = 160\n",
    "        elif 192 <= pixel_value <= 223:\n",
    "            pixelNew[i, j] = 192\n",
    "        elif 224 <= pixel_value <= 255:\n",
    "            pixelNew[i, j] = 224\n",
    "\n",
    "# Save the processed image\n",
    "img.save('images_2.jpg')\n",
    "\n",
    "# Convert the new image to a numpy array\n",
    "J = np.asarray(Image.open(\"images_2.jpg\"))\n"
   ]
  }
 ],
 "metadata": {
  "kernelspec": {
   "display_name": "Python 3 (ipykernel)",
   "language": "python",
   "name": "python3"
  },
  "language_info": {
   "codemirror_mode": {
    "name": "ipython",
    "version": 3
   },
   "file_extension": ".py",
   "mimetype": "text/x-python",
   "name": "python",
   "nbconvert_exporter": "python",
   "pygments_lexer": "ipython3",
   "version": "3.11.5"
  }
 },
 "nbformat": 4,
 "nbformat_minor": 5
}
